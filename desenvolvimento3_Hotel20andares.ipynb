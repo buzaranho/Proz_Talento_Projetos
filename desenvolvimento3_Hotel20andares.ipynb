{
  "nbformat": 4,
  "nbformat_minor": 0,
  "metadata": {
    "colab": {
      "provenance": []
    },
    "kernelspec": {
      "name": "python3",
      "display_name": "Python 3"
    },
    "language_info": {
      "name": "python"
    }
  },
  "cells": [
    {
      "cell_type": "code",
      "execution_count": null,
      "metadata": {
        "id": "6v7DGyRcDMnK"
      },
      "outputs": [],
      "source": []
    },
    {
      "cell_type": "markdown",
      "source": [
        "**Introdução à Programação - projeto Hotel de 20 andares**\n",
        "\n",
        "Precisamos imprimir um número para cada andar de um hotel de 20 andares. Porém, o dono do hotel é supersticioso e optou por não ter um 13ro andar.\n",
        "\n",
        "Escreva um código que imprima todos os números exceto o número 13.\n",
        "\n",
        "Escreva mais dois códigos que resolvam o mesmo problema, mas dessa vez usando os outros dois tipos de laços de repetição aprendidos."
      ],
      "metadata": {
        "id": "3XqNBQGKDOHx"
      }
    },
    {
      "cell_type": "code",
      "source": [
        "#Imprimir todos os números exceto 13\n",
        "contador = 1\n",
        "while (contador <=20) :\n",
        "  if (contador == 13) :\n",
        "    contador = contador + 1\n",
        "    continue\n",
        "  else:\n",
        "    print(contador)\n",
        "    contador = contador + 1"
      ],
      "metadata": {
        "colab": {
          "base_uri": "https://localhost:8080/"
        },
        "collapsed": true,
        "id": "kp-HmT7PDcuR",
        "outputId": "6a16790e-5b1e-4b27-bf3a-bcc2265e5fe2"
      },
      "execution_count": 1,
      "outputs": [
        {
          "output_type": "stream",
          "name": "stdout",
          "text": [
            "1\n",
            "2\n",
            "3\n",
            "4\n",
            "5\n",
            "6\n",
            "7\n",
            "8\n",
            "9\n",
            "10\n",
            "11\n",
            "12\n",
            "14\n",
            "15\n",
            "16\n",
            "17\n",
            "18\n",
            "19\n",
            "20\n"
          ]
        }
      ]
    },
    {
      "cell_type": "code",
      "source": [
        "#Imprimir todos os números exceto 13\n",
        "for i in range(1, 21) :\n",
        "  if(i == 13) :\n",
        "    continue\n",
        "  else:\n",
        "    print(i)"
      ],
      "metadata": {
        "colab": {
          "base_uri": "https://localhost:8080/"
        },
        "collapsed": true,
        "id": "L9Hd-e9jEbu8",
        "outputId": "c08a84fc-6dcd-4afd-b4a3-5ca3ecf1a27b"
      },
      "execution_count": 9,
      "outputs": [
        {
          "output_type": "stream",
          "name": "stdout",
          "text": [
            "1\n",
            "2\n",
            "3\n",
            "4\n",
            "5\n",
            "6\n",
            "7\n",
            "8\n",
            "9\n",
            "10\n",
            "11\n",
            "12\n",
            "14\n",
            "15\n",
            "16\n",
            "17\n",
            "18\n",
            "19\n",
            "20\n"
          ]
        }
      ]
    },
    {
      "cell_type": "code",
      "source": [
        "#Imprimir todos os números exceto 13 - ordem decrescente\n",
        "for i in range(20, 0, -1) :\n",
        "  if(i == 13) :\n",
        "    continue\n",
        "  else:\n",
        "    print(i)"
      ],
      "metadata": {
        "colab": {
          "base_uri": "https://localhost:8080/"
        },
        "collapsed": true,
        "id": "p4zjalXsGkO8",
        "outputId": "eee571cb-55c6-4acd-e565-18158cee69e2"
      },
      "execution_count": 11,
      "outputs": [
        {
          "output_type": "stream",
          "name": "stdout",
          "text": [
            "20\n",
            "19\n",
            "18\n",
            "17\n",
            "16\n",
            "15\n",
            "14\n",
            "12\n",
            "11\n",
            "10\n",
            "9\n",
            "8\n",
            "7\n",
            "6\n",
            "5\n",
            "4\n",
            "3\n",
            "2\n",
            "1\n"
          ]
        }
      ]
    }
  ]
}