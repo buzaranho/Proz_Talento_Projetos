{
  "nbformat": 4,
  "nbformat_minor": 0,
  "metadata": {
    "colab": {
      "provenance": [],
      "authorship_tag": "ABX9TyME+JI7W4/VXGRJi7CIiR2G",
      "include_colab_link": true
    },
    "kernelspec": {
      "name": "python3",
      "display_name": "Python 3"
    },
    "language_info": {
      "name": "python"
    }
  },
  "cells": [
    {
      "cell_type": "markdown",
      "metadata": {
        "id": "view-in-github",
        "colab_type": "text"
      },
      "source": [
        "<a href=\"https://colab.research.google.com/github/buzaranho/Proz_Talento_Projetos/blob/main/desenvolvimentoExtra_1_PrepaHTMLeCSS_Array.ipynb\" target=\"_parent\"><img src=\"https://colab.research.google.com/assets/colab-badge.svg\" alt=\"Open In Colab\"/></a>"
      ]
    },
    {
      "cell_type": "markdown",
      "source": [
        "Declare dois arrays, cada um com um mínimo de cinco elementos, e imprima eles no terminal usando o comando print(). O primeiro array deve conter os produtos de uma loja da sua escolha (loja de comida, materiais de construção, música, etc). O segundo array deve conter os anos de nascimento de familiares e amigos seus. Lembre-se de usar nomes descritivos para nomear cada variável, e de usar o tipo de dado apropriado para cada lista (strings, booleanos, números inteiros, floats)."
      ],
      "metadata": {
        "id": "r386LM1QLRCV"
      }
    },
    {
      "cell_type": "code",
      "execution_count": 1,
      "metadata": {
        "colab": {
          "base_uri": "https://localhost:8080/"
        },
        "id": "smli_vCiK-qo",
        "outputId": "a91410eb-2ec7-4f64-aab7-b148d8d20f48"
      },
      "outputs": [
        {
          "output_type": "stream",
          "name": "stdout",
          "text": [
            "['Mesa com Regulagem de Altura', 'Cadeira Gamer', 'PC Gamer', 'Teclado mecânico', 'Monitor tela curva']\n",
            "[1985, 1990, 1995, 2000, 2005]\n"
          ]
        }
      ],
      "source": [
        "lista_produtos = ['Mesa com Regulagem de Altura', 'Cadeira Gamer', 'PC Gamer', 'Teclado mecânico', 'Monitor tela curva']\n",
        "print(lista_produtos)\n",
        "\n",
        "lista_anos = [1985, 1990, 1995, 2000, 2005]\n",
        "print(lista_anos)\n"
      ]
    }
  ]
}