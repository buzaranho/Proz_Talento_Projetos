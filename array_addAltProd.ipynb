{
  "nbformat": 4,
  "nbformat_minor": 0,
  "metadata": {
    "colab": {
      "provenance": [],
      "authorship_tag": "ABX9TyMqMdSQzZd5P1f9cTS15423",
      "include_colab_link": true
    },
    "kernelspec": {
      "name": "python3",
      "display_name": "Python 3"
    },
    "language_info": {
      "name": "python"
    }
  },
  "cells": [
    {
      "cell_type": "markdown",
      "metadata": {
        "id": "view-in-github",
        "colab_type": "text"
      },
      "source": [
        "<a href=\"https://colab.research.google.com/github/buzaranho/Proz_Talento_Projetos/blob/main/array_addAltProd.ipynb\" target=\"_parent\"><img src=\"https://colab.research.google.com/assets/colab-badge.svg\" alt=\"Open In Colab\"/></a>"
      ]
    },
    {
      "cell_type": "code",
      "execution_count": 6,
      "metadata": {
        "colab": {
          "base_uri": "https://localhost:8080/"
        },
        "id": "UOeb45ta74Pi",
        "outputId": "d0b7f38f-0fc2-4624-de3c-62c5972c6f85"
      },
      "outputs": [
        {
          "output_type": "stream",
          "name": "stdout",
          "text": [
            "O que deseja fazer? Digite o número: \n",
            "1. Ver produtos em estoque\n",
            "2. Alterar produto\n",
            "3. Adicionar produto\n",
            "4. Fechar o sistema\n",
            "1\n",
            "Produtos em estoque: \n",
            "0 - açai\n",
            "1 - pão\n",
            "2 - manteiga\n",
            "3 - arroz\n",
            "4 - queijo\n",
            "O que deseja fazer? Digite o número: \n",
            "1. Ver produtos em estoque\n",
            "2. Alterar produto\n",
            "3. Adicionar produto\n",
            "4. Fechar o sistema\n",
            "4\n",
            "Fechando o sitema\n"
          ]
        }
      ],
      "source": [
        "def manipular_estoque(arr):\n",
        "  fechar = False\n",
        "  while(fechar == False):\n",
        "    print(\"O que deseja fazer? Digite o número: \")\n",
        "    print(\"1. Ver produtos em estoque\")\n",
        "    print(\"2. Alterar produto\")\n",
        "    print(\"3. Adicionar produto\")\n",
        "    print(\"4. Fechar o sistema\")\n",
        "    acao = input()\n",
        "\n",
        "    if(acao == \"1\"):\n",
        "      print(\"Produtos em estoque: \")\n",
        "      for i in range(len(arr)):\n",
        "        print(str(i) + \" - \" + arr[i])\n",
        "\n",
        "    elif(acao == \"2\"):\n",
        "      print(\"Qual é o índice do produto que deseja alterar? \")\n",
        "      indice = int(input())\n",
        "      print(\"Qual é o novo produto?\")\n",
        "      novo_produto = input()\n",
        "      arr[indice] = novo_produto\n",
        "      print(\"Produto \" + novo_produto + \" adicionado com sucesso\")\n",
        "\n",
        "    elif(acao == \"3\"):\n",
        "      print(\"Qual produto quer adicionar?\")\n",
        "      novo_produto = input()\n",
        "      arr.append(novo_produto)\n",
        "      print(\"Produto \" + novo_produto + \" adicionado com sucesso\")\n",
        "\n",
        "    elif(acao == \"4\"):\n",
        "      print(\"Fechando o sitema\")\n",
        "      fechar = True\n",
        "\n",
        "    else:\n",
        "      print(\"Por favor informe um código válido\")\n",
        "\n",
        "produtos = [\"açai\", \"pão\", \"manteiga\", \"arroz\",\"queijo\"]\n",
        "\n",
        "manipular_estoque(produtos)"
      ]
    }
  ]
}