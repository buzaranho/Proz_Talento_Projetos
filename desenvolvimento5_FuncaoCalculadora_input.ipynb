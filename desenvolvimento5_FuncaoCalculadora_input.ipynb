{
  "nbformat": 4,
  "nbformat_minor": 0,
  "metadata": {
    "colab": {
      "provenance": [],
      "authorship_tag": "ABX9TyNe35OKWqOkt/TwVB/h3cJH",
      "include_colab_link": true
    },
    "kernelspec": {
      "name": "python3",
      "display_name": "Python 3"
    },
    "language_info": {
      "name": "python"
    }
  },
  "cells": [
    {
      "cell_type": "markdown",
      "metadata": {
        "id": "view-in-github",
        "colab_type": "text"
      },
      "source": [
        "<a href=\"https://colab.research.google.com/github/buzaranho/Proz_Talento_Projetos/blob/main/desenvolvimento5_FuncaoCalculadora_input.ipynb\" target=\"_parent\"><img src=\"https://colab.research.google.com/assets/colab-badge.svg\" alt=\"Open In Colab\"/></a>"
      ]
    },
    {
      "cell_type": "code",
      "execution_count": null,
      "metadata": {
        "id": "3Y7EJF8nZI4k"
      },
      "outputs": [],
      "source": []
    },
    {
      "cell_type": "markdown",
      "source": [
        "Faça uma função calculadora que os números e as operações serão feitas pelo usuário. O código deve ficar rodando infinitamente até que o usuário escolha a opção de sair. No início, o programa mostrará a seguinte lista de operações:\n",
        "\n",
        "1: Soma\n",
        "\n",
        "2: Subtração\n",
        "\n",
        "3: Multiplicação\n",
        "\n",
        "4: Divisão\n",
        "\n",
        "0: Sair\n",
        "\n",
        "Digite o número para a operação correspondente e caso o usuário introduza qualquer outro, o sistema deve mostrar a mensagem “Essa opção não existe” e voltar ao menu de opções.\n",
        "\n",
        "Após a seleção, o sistema deve pedir para o usuário inserir o primeiro e segundo valor, um de cada. Depois precisa executar a operação e mostrar o resultado na tela. Quando o usuário escolher a opção “Sair”, o sistema irá parar."
      ],
      "metadata": {
        "id": "2_FtO0D3ZJhF"
      }
    },
    {
      "cell_type": "code",
      "source": [
        "def calculadora(num1, num2, operacao):\n",
        "  if (operacao == 1):\n",
        "    return num1 + num2\n",
        "  elif (operacao == 2):\n",
        "    return num1 - num2\n",
        "  elif (operacao == 3):\n",
        "    return num1 * num2\n",
        "  elif (operacao == 4):\n",
        "    return num1 / num2\n",
        "  else:\n",
        "    return 0\n",
        "\n",
        "escolha = True\n",
        "\n",
        "while (escolha == True):\n",
        "  print(\"Escolha uma operação:\")\n",
        "  print(\"[1] Soma, [2] Subtração, [3] Multiplicação, [4] Divisão ou [0] Sair\")\n",
        "  operacao = int(input())\n",
        "  if (operacao < 0) or (operacao > 4):\n",
        "    print(\"Essa opção não exite! Por favor insira um valor entre 0 e 4.\")\n",
        "  elif (operacao == 0):\n",
        "    escolha = False\n",
        "  else:\n",
        "    print(\"Digite o primeiro número:\")\n",
        "    num1 = int (input())\n",
        "    print(\"Digite o segundo número:\")\n",
        "    num2 = int (input())\n",
        "    resultado = calculadora(num1, num2, operacao)\n",
        "    print(\"O resultado é:\", resultado)\n",
        "\n"
      ],
      "metadata": {
        "colab": {
          "base_uri": "https://localhost:8080/"
        },
        "id": "3c0916QJZKw7",
        "outputId": "522d5fb4-b42f-4909-ff49-92f2d2f71763"
      },
      "execution_count": 1,
      "outputs": [
        {
          "name": "stdout",
          "output_type": "stream",
          "text": [
            "Escolha uma operação:\n",
            "[1] Soma, [2] Subtração, [3] Multiplicação, [4] Divisão ou [0] Sair\n",
            "1\n",
            "Digite o primeiro número:\n",
            "2\n",
            "Digite o segundo número:\n",
            "2\n",
            "O resultado é: 4\n",
            "Escolha uma operação:\n",
            "[1] Soma, [2] Subtração, [3] Multiplicação, [4] Divisão ou [0] Sair\n",
            "0\n"
          ]
        }
      ]
    }
  ]
}