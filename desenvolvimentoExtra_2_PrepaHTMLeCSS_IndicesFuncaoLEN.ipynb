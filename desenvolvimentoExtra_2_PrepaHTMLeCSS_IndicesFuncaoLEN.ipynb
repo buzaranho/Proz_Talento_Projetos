{
  "nbformat": 4,
  "nbformat_minor": 0,
  "metadata": {
    "colab": {
      "provenance": [],
      "authorship_tag": "ABX9TyNKBZ4GGB+A8z8K6DwxuLgh",
      "include_colab_link": true
    },
    "kernelspec": {
      "name": "python3",
      "display_name": "Python 3"
    },
    "language_info": {
      "name": "python"
    }
  },
  "cells": [
    {
      "cell_type": "markdown",
      "metadata": {
        "id": "view-in-github",
        "colab_type": "text"
      },
      "source": [
        "<a href=\"https://colab.research.google.com/github/buzaranho/Proz_Talento_Projetos/blob/main/desenvolvimentoExtra_2_PrepaHTMLeCSS_IndicesFuncaoLEN.ipynb\" target=\"_parent\"><img src=\"https://colab.research.google.com/assets/colab-badge.svg\" alt=\"Open In Colab\"/></a>"
      ]
    },
    {
      "cell_type": "markdown",
      "source": [
        "Copie o array apresentado embaixo no seu editor de código, e imprima no terminal: a quantidade de elementos que ele possui, o dado salvo no índice 2, o dado salvo no índice 9, e dado salvo no índice 14.\n",
        "\n",
        "lista_musicos = [ 'Djavan', 'Roberto Carlos', 'Elis Regina', 'Tom Jobim', 'Milton Nascimento', 'Chico Buarque', 'Nara Leão', 'Pitty', 'Simonal', 'Moacir Santos', 'Caetano Veloso', 'Elza Soares', 'Paulinho da Viola', 'Yamandú Costa', 'Gal Costa']"
      ],
      "metadata": {
        "id": "S8BbMdwxMqfs"
      }
    },
    {
      "cell_type": "code",
      "execution_count": 1,
      "metadata": {
        "colab": {
          "base_uri": "https://localhost:8080/"
        },
        "id": "QHiJg8bYMbOh",
        "outputId": "bb2f4dde-b758-4626-95bf-5195e60d35c5"
      },
      "outputs": [
        {
          "output_type": "stream",
          "name": "stdout",
          "text": [
            "15\n",
            "Elis Regina\n",
            "Moacir Santos\n",
            "Gal Costa\n"
          ]
        }
      ],
      "source": [
        "lista_musicos = [ 'Djavan', 'Roberto Carlos', 'Elis Regina', 'Tom Jobim', 'Milton Nascimento', 'Chico Buarque', 'Nara Leão', 'Pitty', 'Simonal', 'Moacir Santos', 'Caetano Veloso', 'Elza Soares', 'Paulinho da Viola', 'Yamandú Costa', 'Gal Costa']\n",
        "\n",
        "qtd_elementos = len(lista_musicos)\n",
        "print(qtd_elementos)\n",
        "print(lista_musicos[2])\n",
        "print(lista_musicos[9])\n",
        "print(lista_musicos[14])\n"
      ]
    }
  ]
}