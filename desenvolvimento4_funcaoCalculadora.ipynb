{
  "nbformat": 4,
  "nbformat_minor": 0,
  "metadata": {
    "colab": {
      "provenance": [],
      "authorship_tag": "ABX9TyM9vMPcXBvyULPRmucPWyqT",
      "include_colab_link": true
    },
    "kernelspec": {
      "name": "python3",
      "display_name": "Python 3"
    },
    "language_info": {
      "name": "python"
    }
  },
  "cells": [
    {
      "cell_type": "markdown",
      "metadata": {
        "id": "view-in-github",
        "colab_type": "text"
      },
      "source": [
        "<a href=\"https://colab.research.google.com/github/buzaranho/Proz_Talento_Projetos/blob/main/desenvolvimento4_funcaoCalculadora.ipynb\" target=\"_parent\"><img src=\"https://colab.research.google.com/assets/colab-badge.svg\" alt=\"Open In Colab\"/></a>"
      ]
    },
    {
      "cell_type": "code",
      "execution_count": null,
      "metadata": {
        "id": "tvkT6hpEZ34b"
      },
      "outputs": [],
      "source": []
    },
    {
      "cell_type": "markdown",
      "source": [
        "Faça uma **função** calculadora de dois números com três parâmetros: os dois primeiros serão os números da operação e o terceiro será a entrada que definirá a operação a ser executada. Considera a seguinte definição:\n",
        "1. Soma\n",
        "2. Subtração\n",
        "3. Multiplicação\n",
        "4. Divisão\n",
        "\n",
        "Caso seja inserido um número de operação que não exista, o resultado deverá ser 0."
      ],
      "metadata": {
        "id": "1fCYMEWTZ9yr"
      }
    },
    {
      "cell_type": "code",
      "source": [
        "def calculadora(numero1, numero2, operacao_Calculadora):\n",
        "  if (operacao_Calculadora == 1):\n",
        "    return numero1 + numero2\n",
        "  elif (operacao_Calculadora == 2):\n",
        "    return numero1 - numero2\n",
        "  elif (operacao_Calculadora == 3):\n",
        "    return numero1 * numero2\n",
        "  elif (operacao_Calculadora == 4):\n",
        "    return numero1 / numero2\n",
        "  else:\n",
        "    return 0\n",
        "\n",
        "#Manipulação de valores dentro do parentese da função: calculadora\n",
        "resultado = calculadora(6, 4, 3)\n",
        "print(\"Resultado é:\", resultado)"
      ],
      "metadata": {
        "colab": {
          "base_uri": "https://localhost:8080/"
        },
        "id": "f2_NqDu1aHzt",
        "outputId": "c61907b5-4948-4a0b-d518-d8e1414a6012"
      },
      "execution_count": 56,
      "outputs": [
        {
          "output_type": "stream",
          "name": "stdout",
          "text": [
            "Resultado é: 24\n"
          ]
        }
      ]
    }
  ]
}