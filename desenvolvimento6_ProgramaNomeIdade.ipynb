{
  "nbformat": 4,
  "nbformat_minor": 0,
  "metadata": {
    "colab": {
      "provenance": [],
      "authorship_tag": "ABX9TyPFkt2iLpnemonYiWDZBRks",
      "include_colab_link": true
    },
    "kernelspec": {
      "name": "python3",
      "display_name": "Python 3"
    },
    "language_info": {
      "name": "python"
    }
  },
  "cells": [
    {
      "cell_type": "markdown",
      "metadata": {
        "id": "view-in-github",
        "colab_type": "text"
      },
      "source": [
        "<a href=\"https://colab.research.google.com/github/buzaranho/Proz_Talento_Projetos/blob/main/desenvolvimento6_ProgramaNomeIdade.ipynb\" target=\"_parent\"><img src=\"https://colab.research.google.com/assets/colab-badge.svg\" alt=\"Open In Colab\"/></a>"
      ]
    },
    {
      "cell_type": "markdown",
      "source": [
        "Desenvolva um programa que recebe do usuário: **nome completo** e **ano de nascimento** que seja entre **1922** e **2021**.\n",
        "A partir dessas informações, o sistema mostrará o nome do usuário e a idade que completou, ou completará, no ano atual (2024).\n",
        "\n",
        "Caso o usuário não digite um número ou apareça um inválido no campo do ano, o sistema informará o erro e **continuará perguntando até que um valor correto seja preenchido**."
      ],
      "metadata": {
        "id": "3FTuj7lSiqt5"
      }
    },
    {
      "cell_type": "code",
      "source": [
        "print(\"Digite seu Nome Completo, por favor:\")\n",
        "nome_Completo = input()\n",
        "\n",
        "continuar = True\n",
        "\n",
        "while (continuar == True):\n",
        "  print(\"Por favor digite seu ano de nascimento:\")\n",
        "  try:\n",
        "    ano = int(input())\n",
        "    if (ano < 1922) or (ano > 2021):\n",
        "      print(\"Infelizmente o ano de nascimento precisa ser entre 1922 e 2021!\")\n",
        "    else:\n",
        "      idade = 2024 - ano\n",
        "      print(\"Seu nome completo é\", nome_Completo.upper(), \"e completou ou completará\", idade, \"anos de idade em 2024.\")\n",
        "      continuar = False\n",
        "  except:\n",
        "    print(\"Os anos devem ser preenchidos com números, por favor!\")"
      ],
      "metadata": {
        "colab": {
          "base_uri": "https://localhost:8080/"
        },
        "id": "oA7JGF8FiuRG",
        "outputId": "18691e7a-aca8-4f85-c5cb-cb3d868a99da"
      },
      "execution_count": 2,
      "outputs": [
        {
          "output_type": "stream",
          "name": "stdout",
          "text": [
            "Digite seu Nome Completo, por favor:\n",
            "sergio luis buzaranho\n",
            "Por favor digite seu ano de nascimento:\n",
            "1985\n",
            "Seu nome completo é SERGIO LUIS BUZARANHO e completou ou completará 39 anos de idade em 2024.\n"
          ]
        }
      ]
    }
  ]
}