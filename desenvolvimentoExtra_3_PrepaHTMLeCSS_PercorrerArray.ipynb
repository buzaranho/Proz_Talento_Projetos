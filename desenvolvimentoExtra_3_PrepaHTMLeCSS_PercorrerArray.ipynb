{
  "nbformat": 4,
  "nbformat_minor": 0,
  "metadata": {
    "colab": {
      "provenance": [],
      "authorship_tag": "ABX9TyMsikc2urxfwfjfD7twjaX1",
      "include_colab_link": true
    },
    "kernelspec": {
      "name": "python3",
      "display_name": "Python 3"
    },
    "language_info": {
      "name": "python"
    }
  },
  "cells": [
    {
      "cell_type": "markdown",
      "metadata": {
        "id": "view-in-github",
        "colab_type": "text"
      },
      "source": [
        "<a href=\"https://colab.research.google.com/github/buzaranho/Proz_Talento_Projetos/blob/main/desenvolvimentoExtra_3_PrepaHTMLeCSS_PercorrerArray.ipynb\" target=\"_parent\"><img src=\"https://colab.research.google.com/assets/colab-badge.svg\" alt=\"Open In Colab\"/></a>"
      ]
    },
    {
      "cell_type": "markdown",
      "source": [
        "Uma nova loja de cosméticos abriu no seu bairro e pediram para você elaborar um sistema que imprime na tela na frente da loja os novos produtos que chegaram. O sistema da loja já tem um array com os produtos, você precisa apenas imprimir eles no terminal, um por um.\n",
        "\n",
        "Como desafio opcional, tente imprimir cada produto com a frase \"Temos [produto] à venda!\" (ex. \"Temos máscaras faciais à venda!\").\n",
        "\n",
        "lista_produtos = ['máscaras faciais', 'batons', 'esmaltes', 'perfumes', 'loções', 'xampus', 'sabonetes', 'delineadores']"
      ],
      "metadata": {
        "id": "6M4bLUYENiDe"
      }
    },
    {
      "cell_type": "code",
      "execution_count": 1,
      "metadata": {
        "colab": {
          "base_uri": "https://localhost:8080/"
        },
        "id": "SLEsReXiNMg3",
        "outputId": "ae58ee9f-e258-4555-c03a-3738583ad689"
      },
      "outputs": [
        {
          "output_type": "stream",
          "name": "stdout",
          "text": [
            "máscaras faciais\n",
            "batons\n",
            "esmaltes\n",
            "perfumes\n",
            "loções\n",
            "xampus\n",
            "sabonetes\n",
            "delineadores\n",
            "Temos máscaras faciais à venda!\n",
            "Temos batons à venda!\n",
            "Temos esmaltes à venda!\n",
            "Temos perfumes à venda!\n",
            "Temos loções à venda!\n",
            "Temos xampus à venda!\n",
            "Temos sabonetes à venda!\n",
            "Temos delineadores à venda!\n"
          ]
        }
      ],
      "source": [
        "lista_produtos = ['máscaras faciais', 'batons', 'esmaltes', 'perfumes', 'loções', 'xampus', 'sabonetes', 'delineadores']\n",
        "\n",
        "# Imprimir cada um dos ítens da lista\n",
        "for i in range(len(lista_produtos)):\n",
        "  print(lista_produtos[i])\n",
        "\n",
        "\n",
        "# Concatenar os ítens da lista com a frase \"Temos [produto] à venda!\"\n",
        "for i in range(len(lista_produtos)):\n",
        "  print('Temos ' + lista_produtos[i] + ' à venda!')\n"
      ]
    }
  ]
}